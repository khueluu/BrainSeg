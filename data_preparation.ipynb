{
 "cells": [
  {
   "cell_type": "code",
   "execution_count": 1,
   "metadata": {},
   "outputs": [],
   "source": [
    "import numpy as np\n",
    "import os\n",
    "import random\n",
    "import shutil\n",
    "\n",
    "from PIL import Image\n",
    "\n",
    "random.seed(0)"
   ]
  },
  {
   "cell_type": "markdown",
   "metadata": {},
   "source": [
    "# Data Preparation"
   ]
  },
  {
   "cell_type": "markdown",
   "metadata": {},
   "source": [
    "### Set up data folders"
   ]
  },
  {
   "cell_type": "code",
   "execution_count": 2,
   "metadata": {},
   "outputs": [],
   "source": [
    "!rm -rf data/val_images data/val_masks data/train_images data/train_masks\n",
    "!mkdir data/val_images data/val_masks data/train_images data/train_masks"
   ]
  },
  {
   "cell_type": "code",
   "execution_count": 3,
   "metadata": {},
   "outputs": [
    {
     "name": "stdout",
     "output_type": "stream",
     "text": [
      "data/train_images\n",
      "data/train_masks\n",
      "data/val_images\n",
      "data/val_masks\n"
     ]
    }
   ],
   "source": [
    "BASE_DIR = 'data/'\n",
    "SRC_DIR = os.path.join(BASE_DIR, 'kaggle_3m')\n",
    "\n",
    "TRAIN_IMAGES_DIR = os.path.join(BASE_DIR, 'train_images')\n",
    "TRAIN_MASKS_DIR = os.path.join(BASE_DIR, 'train_masks')\n",
    "VAL_IMAGES_DIR = os.path.join(BASE_DIR, 'val_images')\n",
    "VAL_MASKS_DIR = os.path.join(BASE_DIR, 'val_masks')\n",
    "\n",
    "print(TRAIN_IMAGES_DIR)\n",
    "print(TRAIN_MASKS_DIR)\n",
    "print(VAL_IMAGES_DIR)\n",
    "print(VAL_MASKS_DIR)"
   ]
  },
  {
   "cell_type": "code",
   "execution_count": 4,
   "metadata": {},
   "outputs": [
    {
     "name": "stdout",
     "output_type": "stream",
     "text": [
      "Total 110 patients\n"
     ]
    }
   ],
   "source": [
    "patients = os.listdir(SRC_DIR)\n",
    "patients = [patient for patient in patients if patient.startswith('TCGA')]\n",
    "print(f'Total {len(patients)} patients')"
   ]
  },
  {
   "cell_type": "code",
   "execution_count": 5,
   "metadata": {},
   "outputs": [
    {
     "name": "stdout",
     "output_type": "stream",
     "text": [
      "With test size = 0.2, 22 patients will be used for testing\n",
      "Patients for testing are:\n",
      "['TCGA_HT_7881_19981015', 'TCGA_FG_7643_20021104', 'TCGA_FG_A4MT_20020212', 'TCGA_HT_7692_19960724', 'TCGA_DU_7010_19860307', 'TCGA_HT_7855_19951020', 'TCGA_CS_6666_20011109', 'TCGA_DU_7294_19890104', 'TCGA_HT_A61B_19991127', 'TCGA_DU_5872_19950223', 'TCGA_FG_8189_20030516', 'TCGA_FG_6691_20020405', 'TCGA_CS_5396_20010302', 'TCGA_HT_7879_19981009', 'TCGA_HT_8563_19981209', 'TCGA_CS_5397_20010315', 'TCGA_DU_A5TP_19970614', 'TCGA_DU_5849_19950405', 'TCGA_DU_A5TU_19980312', 'TCGA_DU_6401_19831001', 'TCGA_DU_7008_19830723', 'TCGA_FG_6689_20020326']\n"
     ]
    }
   ],
   "source": [
    "TEST_SIZE = 0.2\n",
    "num_of_patients_for_test = int(len(patients) * TEST_SIZE)\n",
    "\n",
    "print(f'With test size = {TEST_SIZE}, {num_of_patients_for_test} patients will be used for testing')\n",
    "\n",
    "patients_for_test = random.sample(patients, k=num_of_patients_for_test)\n",
    "assert len(patients_for_test) == num_of_patients_for_test\n",
    "\n",
    "print(f'Patients for testing are:\\n{patients_for_test}')"
   ]
  },
  {
   "cell_type": "code",
   "execution_count": 6,
   "metadata": {},
   "outputs": [],
   "source": [
    "for patient in patients:\n",
    "    src = f'{SRC_DIR}/{patient}'\n",
    "    \n",
    "    if patient in patients_for_test:\n",
    "        dst_images = f'{VAL_IMAGES_DIR}/{patient}'\n",
    "        dst_masks = f'{VAL_MASKS_DIR}/{patient}'\n",
    "    else:\n",
    "        dst_images = f'{TRAIN_IMAGES_DIR}/{patient}'\n",
    "        dst_masks = f'{TRAIN_MASKS_DIR}/{patient}'\n",
    "        \n",
    "    shutil.copytree(src, dst_images)\n",
    "    shutil.copytree(src, dst_masks)"
   ]
  },
  {
   "cell_type": "code",
   "execution_count": 7,
   "metadata": {},
   "outputs": [],
   "source": [
    "def remove_files(dir_, endswith=None, notendswith=None):\n",
    "    for patient in os.listdir(dir_):\n",
    "        images = os.listdir(f'{dir_}/{patient}')\n",
    "        len_before = len(images)\n",
    "        \n",
    "        for image in images:\n",
    "            img_path = ''\n",
    "            \n",
    "            if endswith and image.endswith(endswith):\n",
    "                img_path = f'{dir_}/{patient}/{image}'\n",
    "            elif notendswith and (not image.endswith(notendswith)):\n",
    "                img_path = f'{dir_}/{patient}/{image}'\n",
    "\n",
    "            if os.path.exists(img_path):\n",
    "                  os.remove(img_path)\n",
    "\n",
    "            \n",
    "        images = os.listdir(f'{dir_}/{patient}')\n",
    "        len_after = len(images)\n",
    "        assert len_before == 2 * len_after"
   ]
  },
  {
   "cell_type": "code",
   "execution_count": 8,
   "metadata": {},
   "outputs": [],
   "source": [
    "remove_files(TRAIN_IMAGES_DIR, endswith='_mask.tif')\n",
    "remove_files(VAL_IMAGES_DIR, endswith='_mask.tif')\n",
    "remove_files(TRAIN_MASKS_DIR, notendswith='_mask.tif')\n",
    "remove_files(VAL_MASKS_DIR, notendswith='_mask.tif')"
   ]
  },
  {
   "cell_type": "markdown",
   "metadata": {},
   "source": [
    "### View MRI images"
   ]
  },
  {
   "cell_type": "code",
   "execution_count": 9,
   "metadata": {},
   "outputs": [],
   "source": [
    "def get_random_img(dir_):\n",
    "    random_patient = random.sample(os.listdir(dir_), k=1)[0]\n",
    "    img_filename = random.sample(os.listdir(f'{dir_}/{random_patient}'), k=1)[0]\n",
    "    img_path = os.path.join(f'{dir_}/{random_patient}', img_filename)\n",
    "    return img_path"
   ]
  },
  {
   "cell_type": "code",
   "execution_count": 10,
   "metadata": {},
   "outputs": [],
   "source": [
    "random_image = Image.open(get_random_img(TRAIN_IMAGES_DIR))\n",
    "random_mask = Image.open(get_random_img(TRAIN_MASKS_DIR))"
   ]
  },
  {
   "cell_type": "code",
   "execution_count": 11,
   "metadata": {},
   "outputs": [
    {
     "data": {
      "text/plain": [
       "((256, 256), 'RGB', (256, 256), 'L')"
      ]
     },
     "execution_count": 11,
     "metadata": {},
     "output_type": "execute_result"
    }
   ],
   "source": [
    "random_image.size, random_image.mode, random_mask.size, random_mask.mode"
   ]
  },
  {
   "cell_type": "markdown",
   "metadata": {},
   "source": [
    "### Convert images to numpy arrays"
   ]
  },
  {
   "cell_type": "code",
   "execution_count": 12,
   "metadata": {},
   "outputs": [
    {
     "data": {
      "text/plain": [
       "(256, 256, 3)"
      ]
     },
     "execution_count": 12,
     "metadata": {},
     "output_type": "execute_result"
    }
   ],
   "source": [
    "img_arr = np.asarray(random_image)\n",
    "img_arr.shape"
   ]
  },
  {
   "cell_type": "code",
   "execution_count": null,
   "metadata": {},
   "outputs": [],
   "source": [
    "# Convert to grayscale -> 1 channel\n",
    "# Increase the size of the image (upsampling): image to 572x572, mask to 388x388\n",
    "# reshape channel first\n",
    "\n",
    "# learn Unet and Semantic Segmentation courses"
   ]
  },
  {
   "cell_type": "code",
   "execution_count": 13,
   "metadata": {},
   "outputs": [
    {
     "data": {
      "text/plain": [
       "(256, 256)"
      ]
     },
     "execution_count": 13,
     "metadata": {},
     "output_type": "execute_result"
    }
   ],
   "source": [
    "msk_arr = np.asarray(random_mask)\n",
    "msk_arr.shape"
   ]
  },
  {
   "cell_type": "markdown",
   "metadata": {},
   "source": [
    "### Convert mask to binary"
   ]
  },
  {
   "cell_type": "code",
   "execution_count": null,
   "metadata": {},
   "outputs": [],
   "source": []
  }
 ],
 "metadata": {
  "kernelspec": {
   "display_name": "Python 3",
   "language": "python",
   "name": "python3"
  },
  "language_info": {
   "codemirror_mode": {
    "name": "ipython",
    "version": 3
   },
   "file_extension": ".py",
   "mimetype": "text/x-python",
   "name": "python",
   "nbconvert_exporter": "python",
   "pygments_lexer": "ipython3",
   "version": "3.8.5"
  }
 },
 "nbformat": 4,
 "nbformat_minor": 4
}
