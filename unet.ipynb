{
 "cells": [
  {
   "cell_type": "code",
   "execution_count": 1,
   "metadata": {},
   "outputs": [],
   "source": [
    "import torch\n",
    "import torch.nn as nn\n",
    "from torch.optim import SGD"
   ]
  },
  {
   "cell_type": "code",
   "execution_count": 2,
   "metadata": {},
   "outputs": [
    {
     "data": {
      "text/plain": [
       "False"
      ]
     },
     "execution_count": 2,
     "metadata": {},
     "output_type": "execute_result"
    }
   ],
   "source": [
    "torch.cuda.is_available()"
   ]
  },
  {
   "cell_type": "markdown",
   "metadata": {},
   "source": [
    "# U-Net Architecture"
   ]
  },
  {
   "cell_type": "markdown",
   "metadata": {},
   "source": [
    "![UNET Architecture](UNET_architecture.png)"
   ]
  },
  {
   "cell_type": "code",
   "execution_count": 56,
   "metadata": {},
   "outputs": [],
   "source": [
    "def double_conv(in_channels, out_channels):\n",
    "    return nn.Sequential(\n",
    "        nn.Conv2d(in_channels, out_channels, kernel_size=3),\n",
    "        nn.ReLU(inplace=True),\n",
    "        nn.Conv2d(out_channels, out_channels, kernel_size=3),\n",
    "        nn.ReLU(inplace=True))\n",
    "\n",
    "def up_trans(in_channels, out_channels):\n",
    "    return nn.ConvTranspose2d(in_channels, out_channels, kernel_size=2, stride=2)\n",
    "\n",
    "def crop(original_tensor, target_tensor):\n",
    "    target_size = target_tensor.size()[2]\n",
    "    original_size = original_tensor.size()[2]\n",
    "    delta = abs(original_size - target_size)\n",
    "    start = delta // 2\n",
    "    end = original_size - start\n",
    "    return original_tensor[:, :, start:end, start:end]"
   ]
  },
  {
   "cell_type": "code",
   "execution_count": 97,
   "metadata": {},
   "outputs": [],
   "source": [
    "class UNet(nn.Module):\n",
    "    def __init__(self):\n",
    "        super(UNet, self).__init__()\n",
    "        \n",
    "        self.max_pool_2x2 = nn.MaxPool2d(kernel_size=2, stride=2)\n",
    "\n",
    "        self.down_conv_1 = double_conv(1, 64)\n",
    "        self.down_conv_2 = double_conv(64, 128)\n",
    "        self.down_conv_3 = double_conv(128, 256)\n",
    "        self.down_conv_4 = double_conv(256, 512)\n",
    "        self.down_conv_5 = double_conv(512, 1024)\n",
    "        \n",
    "        self.up_trans_6 = up_trans(1024, 512)\n",
    "        self.up_trans_7 = up_trans(512, 256)\n",
    "        self.up_trans_8 = up_trans(256, 128)\n",
    "        self.up_trans_9 = up_trans(128, 64)\n",
    "        \n",
    "        self.up_conv_6 = double_conv(1024, 512)\n",
    "        self.up_conv_7 = double_conv(512, 256)\n",
    "        self.up_conv_8 = double_conv(256, 128)\n",
    "        self.up_conv_9 = double_conv(128, 64)\n",
    "        \n",
    "        self.out = nn.Conv2d(in_channels=64, out_channels=2, kernel_size=1)\n",
    "        \n",
    "    def forward(self, img, verbose=0):\n",
    "        # Contracting path\n",
    "        # Block 1\n",
    "        contracting_1 = self.down_conv_1(img)\n",
    "        if verbose:\n",
    "            print(f'Conntracting Block 1: {contracting_1.shape}')\n",
    "        \n",
    "        # Block 2\n",
    "        contracting_2 = self.max_pool_2x2(contracting_1)  \n",
    "        contracting_2 = self.down_conv_2(contracting_2)\n",
    "        if verbose:\n",
    "            print(f'Conntracting Block 2: {contracting_2.shape}')\n",
    "\n",
    "        # Block 3\n",
    "        contracting_3 = self.max_pool_2x2(contracting_2)\n",
    "        contracting_3 = self.down_conv_3(contracting_3)\n",
    "        if verbose:\n",
    "            print(f'Conntracting Block 3: {contracting_3.shape}')\n",
    "\n",
    "        # Block 4\n",
    "        contracting_4 = self.max_pool_2x2(contracting_3)\n",
    "        contracting_4 = self.down_conv_4(contracting_4)\n",
    "        if verbose:\n",
    "            print(f'Conntracting Block 4: {contracting_4.shape}')\n",
    "\n",
    "        # Block 5\n",
    "        contracting_5 = self.max_pool_2x2(contracting_4)\n",
    "        contracting_5 = self.down_conv_5(contracting_5)\n",
    "        if verbose:\n",
    "            print(f'Conntracting Block 5: {contracting_5.shape}')\n",
    "        \n",
    "        # Expansive path\n",
    "        # Block 6\n",
    "        expansive_6 = self.up_trans_6(contracting_5)\n",
    "        contracting_4_cropped = crop(contracting_4, expansive_6)\n",
    "        concat = torch.cat([contracting_4_cropped, expansive_6], dim=1)\n",
    "        expansive_6 = self.up_conv_6(concat)\n",
    "        if verbose:\n",
    "            print(f'Expansive Block 6: {expansive_6.shape}')\n",
    "        \n",
    "        # Block 7\n",
    "        expansive_7 = self.up_trans_7(expansive_6)\n",
    "        contracting_3_cropped = crop(contracting_3, expansive_7)\n",
    "        concat = torch.cat([contracting_3_cropped, expansive_7], dim=1)\n",
    "        expansive_7 = self.up_conv_7(concat)\n",
    "        if verbose:\n",
    "            print(f'Expansive Block 7: {expansive_7.shape}')\n",
    "        \n",
    "        # Block 8\n",
    "        expansive_8 = self.up_trans_8(expansive_7)\n",
    "        contracting_2_cropped = crop(contracting_2, expansive_8)\n",
    "        concat = torch.cat([contracting_2_cropped, expansive_8], dim=1)\n",
    "        expansive_8 = self.up_conv_8(concat)\n",
    "        if verbose:\n",
    "            print(f'Expansive Block 8: {expansive_8.shape}')\n",
    "        \n",
    "        # Block 9\n",
    "        expansive_9 = self.up_trans_9(expansive_8)\n",
    "        contracting_1_cropped = crop(contracting_1, expansive_9)\n",
    "        concat = torch.cat([contracting_1_cropped, expansive_9], dim=1)\n",
    "        expansive_9 = self.up_conv_9(concat)\n",
    "        output = self.out(expansive_9)\n",
    "        if verbose:\n",
    "            print(f'Expansive Block 9: {expansive_9.shape}')\n",
    "        \n",
    "        return output\n",
    "        "
   ]
  },
  {
   "cell_type": "code",
   "execution_count": 98,
   "metadata": {},
   "outputs": [],
   "source": [
    "unet = UNet()"
   ]
  },
  {
   "cell_type": "code",
   "execution_count": 101,
   "metadata": {},
   "outputs": [
    {
     "name": "stdout",
     "output_type": "stream",
     "text": [
      "Conntracting Block 1: torch.Size([1, 64, 568, 568])\n",
      "Conntracting Block 2: torch.Size([1, 128, 280, 280])\n",
      "Conntracting Block 3: torch.Size([1, 256, 136, 136])\n",
      "Conntracting Block 4: torch.Size([1, 512, 64, 64])\n",
      "Conntracting Block 5: torch.Size([1, 1024, 28, 28])\n",
      "Expansive Block 6: torch.Size([1, 512, 52, 52])\n",
      "Expansive Block 7: torch.Size([1, 256, 100, 100])\n",
      "Expansive Block 8: torch.Size([1, 128, 196, 196])\n",
      "Expansive Block 9: torch.Size([1, 64, 388, 388])\n"
     ]
    }
   ],
   "source": [
    "img = torch.rand(1, 1, 572, 572) # batch_size, channel, height, width\n",
    "output = unet.forward(img, verbose=1)"
   ]
  },
  {
   "cell_type": "code",
   "execution_count": 100,
   "metadata": {},
   "outputs": [
    {
     "data": {
      "text/plain": [
       "torch.Size([1, 2, 388, 388])"
      ]
     },
     "execution_count": 100,
     "metadata": {},
     "output_type": "execute_result"
    }
   ],
   "source": [
    "output.size()"
   ]
  },
  {
   "cell_type": "code",
   "execution_count": null,
   "metadata": {},
   "outputs": [],
   "source": []
  }
 ],
 "metadata": {
  "kernelspec": {
   "display_name": "Python 3",
   "language": "python",
   "name": "python3"
  },
  "language_info": {
   "codemirror_mode": {
    "name": "ipython",
    "version": 3
   },
   "file_extension": ".py",
   "mimetype": "text/x-python",
   "name": "python",
   "nbconvert_exporter": "python",
   "pygments_lexer": "ipython3",
   "version": "3.8.5"
  }
 },
 "nbformat": 4,
 "nbformat_minor": 4
}
